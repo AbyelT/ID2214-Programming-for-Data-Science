{
 "cells": [
  {
   "cell_type": "markdown",
   "metadata": {},
   "source": [
    "# ID2214/FID3214 Assignment 1 Group no. 2\n",
    "### Project members: \n",
    "Abyel Tesfay, Abyel@kth.se\n",
    "Farrokh Bolandi, Farrokh@kth.se\n",
    "Ezio Christofoli, Ezioc@kth.se\n",
    "\n",
    "### Declaration:\n",
    "By submitting this solution, it is hereby declared that all individuals listed above have contributed to the solution, either with code that appear in the final solution below, or with code that has been evaluated and compared to the final solution, but for some reason has been excluded. It is also declared that all project members fully understand all parts of the final solution and can explain it upon request.\n",
    "\n",
    "It is furthermore declared that the code below is a contribution by the project members only, and specifically that no part of the solution has been copied from any other source (except for lecture slides at the course ID2214/FID3214) and no part of the solution has been provided by someone not listed as project member above.\n",
    "\n",
    "It is furthermore declared that it has been understood that no other library/package than the Python 3 standard library, NumPy and pandas may be used in the solution for this assignment.\n",
    "\n",
    "### Instructions\n",
    "All parts of the assignment starting with number 1 below are mandatory. Satisfactory solutions\n",
    "will give 1 point (in total). If they in addition are good (all parts work more or less \n",
    "as they should), completed on time (submitted before the deadline in Canvas) and according\n",
    "to the instructions, together with satisfactory solutions of all parts of the assignment starting \n",
    "with number 2 below, then the assignment will receive 2 points (in total).\n",
    "\n",
    "Note that you do not have to develop the code directly within the notebook\n",
    "but may instead copy the comments and test cases to a more convenient development environment\n",
    "and when everything works as expected, you may paste your functions into this\n",
    "notebook, do a final testing (all cells should succeed) and submit the whole notebook \n",
    "(a single file) in Canvas (do not forget to fill in your group number and names above)."
   ]
  },
  {
   "cell_type": "markdown",
   "metadata": {},
   "source": [
    "## Load NumPy and pandas"
   ]
  },
  {
   "cell_type": "code",
   "execution_count": 1,
   "metadata": {},
   "outputs": [],
   "source": [
    "import numpy as np\n",
    "import pandas as pd"
   ]
  },
  {
   "cell_type": "markdown",
   "metadata": {},
   "source": [
    "## 1a. Create and apply column filter"
   ]
  },
  {
   "cell_type": "code",
   "execution_count": null,
   "metadata": {},
   "outputs": [],
   "source": [
    "# Insert the functions create_column_filter and apply_column_filter below (after the comments)\n",
    "\n",
    "## filters and returns a dataFrame with only 2 or more unique values\n",
    "## and a list of the remaining column names\n",
    "def create_column_filter(df):\n",
    "    new_df = df.copy()\n",
    "    new_df = new_df.filter([e for e in new_df.columns if new_df[e].nunique() > 1 or e in ['CLASS', 'ID']], axis=1)\n",
    "    return new_df, list(new_df.columns)\n",
    "\n",
    "# Input to create_column_filter:\n",
    "# df - a dataframe (where the column names \"CLASS\" and \"ID\" have special meaning)\n",
    "#\n",
    "# Output from create_filter:\n",
    "# df            - a new dataframe, where columns, except \"CLASS\" and \"ID\", containing only missing values \n",
    "#                 or only one unique value (apart from the missing values) have been dropped\n",
    "# column_filter - a list of the names of the remaining columns, including \"CLASS\" and \"ID\"\n",
    "#\n",
    "# Hint 1: First copy the input dataframe and modify the copy (the input dataframe should be kept unchanged)\n",
    "#\n",
    "# Hint 2: Iterate through all columns and consider to drop a column only if it is not labeled \"CLASS\" or \"ID\"\n",
    "#\n",
    "# Hint 3: You may check the number of unique (non-missing) values in a column by applying the pandas functions\n",
    "#         dropna and unique to drop missing values and get the unique (remaining) values\n",
    "\n",
    "## filters and returns a dataFrame with only 2 or more unique values\n",
    "## using a list of the column names that should remain\n",
    "def apply_column_filter(df, column_filter):\n",
    "    new_df = df.copy()\n",
    "    new_df = new_df.filter(items=column_filter, axis=1)\n",
    "    return new_df\n",
    "\n",
    "\n",
    "# Input to apply_column_filter:\n",
    "# df            - a dataframe\n",
    "# column_filter - a list of the names of the columns to keep (see above)\n",
    "#\n",
    "# Output from apply_column_filter:\n",
    "# df - a new dataframe, where each column that is not included in column_filter has been dropped\n",
    "#\n",
    "# Hint 1: First copy the input dataframe and modify the copy (the input dataframe should be kept unchanged)\n"
   ]
  },
  {
   "cell_type": "code",
   "execution_count": null,
   "metadata": {},
   "outputs": [],
   "source": [
    "# Test your code (leave this part unchanged)\n",
    "df = pd.DataFrame({\"CLASS\":[1,0,1,0,1],\"A\":[1,2,np.nan,4,5],\"B\":[1,1,1,1,np.nan],\"C\":[\"h\",\"h\",np.nan,\"i\",\"h\"],\"D\":[np.nan,np.nan,np.nan,np.nan,np.nan]})\n",
    "\n",
    "filtered_df, column_filter = create_column_filter(df)\n",
    "\n",
    "new_df = pd.DataFrame({\"CLASS\":[1,0,0],\"A\":[4,5,6],\"B\":[1,2,1],\"C\":[np.nan,np.nan,np.nan],\"D\":[np.nan,4,5]})\n",
    "\n",
    "filtered_new_df = apply_column_filter(new_df,column_filter)\n",
    "\n",
    "display(\"df\",df)\n",
    "display(\"filtered_df\",filtered_df)\n",
    "display(\"new_df\",new_df)\n",
    "display(\"filtered_new_df\",filtered_new_df)"
   ]
  },
  {
   "cell_type": "markdown",
   "metadata": {},
   "source": [
    "## 1b. Create and apply normalization"
   ]
  },
  {
   "cell_type": "code",
   "execution_count": null,
   "metadata": {},
   "outputs": [],
   "source": [
    "# Insert the functions create_normalization and apply_normalization below (after the comments)\n",
    "def create_normalization(df, normalizationtype=\"minmax\"):\n",
    "    new_df = df.copy()\n",
    "    normalization = {}\n",
    "    for e in new_df.columns:\n",
    "        if e not in ['CLASS', 'ID'] and new_df[e].dtypes in [\"float64\", \"int64\"]:\n",
    "            if normalizationtype == \"minmax\":\n",
    "                min = new_df[e].min()\n",
    "                max = new_df[e].max()\n",
    "                new_df[e] = [(x-min)/(max-min) for x in new_df[e]]\n",
    "                normalization[e] = (\"minmax\", min, max)\n",
    "            elif normalizationtype == \"zscore\":    \n",
    "                mean = new_df[e].mean()\n",
    "                std = new_df[e].std()\n",
    "                new_df[e] =  [((x-mean)/std) for x in new_df[e]]\n",
    "                normalization[e] = (\"zscore\", mean, std)\n",
    "    return new_df, normalization\n",
    "\n",
    "# Input to create_normalization:\n",
    "# df: a dataframe (where the column names \"CLASS\" and \"ID\" have special meaning)\n",
    "# normalizationtype: \"minmax\" (default) or \"zscore\"\n",
    "#\n",
    "# Output from create_normalization:\n",
    "# df            - a new dataframe, where each numeric value in a column has been replaced by a normalized value\n",
    "# normalization - a mapping (dictionary) from each column name to a triple, consisting of\n",
    "#                (\"minmax\",min_value,max_value) or (\"zscore\",mean,std)\n",
    "#\n",
    "# Hint 1: First copy the input dataframe and modify the copy (the input dataframe should be kept unchanged)\n",
    "#\n",
    "# Hint 2: Consider columns of type \"float\" or \"int\" only (and which are not labeled \"CLASS\" or \"ID\"),\n",
    "#         the other columns should remain unchanged\n",
    "#\n",
    "# Hint 3: Take a close look at the lecture slides on data preparation\n",
    "\n",
    "def apply_normalization(df, normalization):\n",
    "    new_df = df.copy()\n",
    "    for e in new_df.columns:\n",
    "        if e in normalization:\n",
    "            a = normalization.get(e)[1]\n",
    "            b = normalization.get(e)[2]\n",
    "            new_df[e] = [(x-a)/(b-a) for x in new_df[e]] # works with minmax or zscore\n",
    "    return new_df\n",
    "\n",
    "# Input to apply_normalization:\n",
    "# df            - a dataframe\n",
    "# normalization - a mapping (dictionary) from column names to triples (see above)\n",
    "#\n",
    "# Output from apply_normalization:\n",
    "# df - a new dataframe, where each numerical value has been normalized according to the mapping\n",
    "#\n",
    "# Hint 1: First copy the input dataframe and modify the copy (the input dataframe should be kept unchanged)\n",
    "#\n",
    "# Hint 2: For minmax-normalization, you may consider to limit the output range to [0,1]\n",
    "\n",
    "#   new_df[e] = [(x-normalization.get(e)[1])/(normalization.get(e)[2]-normalization.get(e)[1]) for e in new_df.columns if e in normalization for x in new_df[e]] # works with minmax or zscore\n"
   ]
  },
  {
   "cell_type": "code",
   "execution_count": null,
   "metadata": {},
   "outputs": [],
   "source": [
    "# Test your code (leave this part unchanged)\n",
    "\n",
    "glass_train_df = pd.read_csv(\"glass_train.csv\")\n",
    "\n",
    "glass_test_df = pd.read_csv(\"glass_test.csv\")\n",
    "\n",
    "glass_train_norm, normalization = create_normalization(glass_train_df,normalizationtype=\"minmax\")\n",
    "print(\"normalization:\\n\")\n",
    "for f in normalization:\n",
    "    print(\"{}:{}\".format(f,normalization[f]))\n",
    "\n",
    "print()\n",
    "    \n",
    "glass_test_norm = apply_normalization(glass_test_df,normalization)\n",
    "display(\"glass_test_norm\",glass_test_norm)"
   ]
  },
  {
   "cell_type": "markdown",
   "metadata": {},
   "source": [
    "### Comment on assumptions, things that do not work properly, etc.\n",
    "This took some time to get done but i realized it could have been easier, through the lecture slides the student obtained the normailization formula for both minmax and zscore. The reason the implementation took longer is due to syntax errors and the students inexperience in phyton. One area which the student had difficulities was manipulating the correct columns in the data frames"
   ]
  },
  {
   "cell_type": "markdown",
   "metadata": {},
   "source": [
    "## 1c. Create and apply imputation"
   ]
  },
  {
   "cell_type": "code",
   "execution_count": null,
   "metadata": {},
   "outputs": [],
   "source": [
    "# Insert the functions create_imputation and apply_imputation below (after the comments)\n",
    "def create_imputation(df):\n",
    "    new_df = df.copy()\n",
    "    imputation = {}\n",
    "    for e in new_df.columns:\n",
    "        if e not in ['CLASS', 'ID']:\n",
    "            # numerical values\n",
    "            if new_df[e].dtypes in [\"float64\", \"int64\"]:\n",
    "                if new_df[e].nunique() < 1:\n",
    "                    new_df[e].fillna(0, inplace=True)\n",
    "                new_df[e].fillna(new_df[e].mean(), inplace=True)\n",
    "                imputation[e] = new_df[e].mean()\n",
    "            # categorical or object values\n",
    "            else:\n",
    "                # if it is an object\n",
    "                if new_df[e].dtypes == \"object\":\n",
    "                    new_df[e].astype('category')\n",
    "                if new_df[e].nunique() < 1:\n",
    "                    new_df[e].fillna(new_df[e][0], inplace=True)\n",
    "                new_df[e].fillna(new_df[e].mode()[0], inplace=True)\n",
    "                imputation[e] = new_df[e].mode()[0]\n",
    "    return new_df, imputation\n",
    "\n",
    "# Input to create_imputation:\n",
    "# df: a dataframe (where the column names \"CLASS\" and \"ID\" have special meaning)\n",
    "#\n",
    "# Output from create_imputation:\n",
    "# df         - a new dataframe, where each missing numeric value in a column has been replaced by the mean of that column \n",
    "#              and each missing categoric value in a column has been replaced by the mode of that column\n",
    "# imputation - a mapping (dictionary) from column name to value that has replaced missing values\n",
    "#\n",
    "# Hint 1: First copy the input dataframe and modify the copy (the input dataframe should be kept unchanged)\n",
    "#\n",
    "# Hint 2: Handle columns of type \"float\" or \"int\" only (and which are not labeled \"CLASS\" or \"ID\") in one way\n",
    "#         and columns of type \"object\" and \"category\" in other ways\n",
    "#\n",
    "# Hint 3: Consider using the pandas functions mean and mode respectively, as well as fillna\n",
    "#\n",
    "# Hint 4: In the rare case of all values in a column being missing*, replace numeric values with 0,\n",
    "#         object values with \"\" and category values with the first category (cat.categories[0])  \n",
    "#\n",
    "#         *Note that this will not occur if the previous column filter function has been applied\n",
    "\n",
    "def apply_imputation(df, imputation):\n",
    "    new_df = df.copy()\n",
    "    new_df.fillna(imputation, inplace=True)\n",
    "    return new_df\n",
    "\n",
    "# Input to apply_imputation:\n",
    "# df         - a dataframe\n",
    "# imputation - a mapping (dictionary) from column name to value that should replace missing values\n",
    "#\n",
    "# Output from apply_imputation:\n",
    "# df - a new dataframe, where each missing value has been replaced according to the mapping\n",
    "#\n",
    "# Hint 1: First copy the input dataframe and modify the copy (the input dataframe should be kept unchanged)\n",
    "#\n",
    "# Hint 2: Consider using fillna"
   ]
  },
  {
   "cell_type": "code",
   "execution_count": null,
   "metadata": {},
   "outputs": [],
   "source": [
    "# Test your code (leave this part unchanged)\n",
    "\n",
    "anneal_train_df = pd.read_csv(\"anneal_train.csv\")\n",
    "anneal_test_df = pd.read_csv(\"anneal_test.csv\")\n",
    "\n",
    "anneal_train_imp, imputation = create_imputation(anneal_train_df)\n",
    "anneal_test_imp = apply_imputation(anneal_test_df,imputation)\n",
    "\n",
    "print(\"Imputation:\\n\")\n",
    "for f in imputation:\n",
    "    print(\"{}:{}\".format(f,imputation[f]))\n",
    "\n",
    "print(\"\\nNo. of replaced missing values in training data:\\n{}\".format(anneal_train_imp.count()-anneal_train_df.count()))\n",
    "print(\"\\nNo. of replaced missing values in test data:\\n{}\".format(anneal_test_imp.count()-anneal_test_df.count()))"
   ]
  },
  {
   "cell_type": "markdown",
   "metadata": {},
   "source": [
    "### Comment on assumptions, things that do not work properly, etc.\n",
    "The student encountered some problems with getting the mode from a object, the function worked when creating lists (inside []) but not when the student tried to assign the mode to the imputation dictionary. After a long troubleshooting the student found a solution by refering to the first index of the mode [0], this is because the mode was given as a list of objects"
   ]
  },
  {
   "cell_type": "markdown",
   "metadata": {},
   "source": [
    "## 1d. Create and apply discretization"
   ]
  },
  {
   "cell_type": "code",
   "execution_count": null,
   "metadata": {},
   "outputs": [],
   "source": [
    "# Insert the functions create_bins and apply_bins below\n",
    "\n",
    "def create_bins(df, nobins=10, bintype=\"equal-width\"): \n",
    "    new_df = df.copy()\n",
    "    binning = {}\n",
    "    for e in new_df.columns:\n",
    "        if e not in ['CLASS', 'ID'] and new_df[e].dtypes in [\"float64\", \"int64\"]:\n",
    "            if bintype == \"equal-width\":\n",
    "                new_df[e], binning[e] = pd.cut(new_df[e], nobins, labels=False, retbins=True)                           #3\n",
    "                new_df[e] = new_df[e].astype('category')                                                                #4\n",
    "                new_df[e] = new_df[e].cat.set_categories(np.arange(nobins))                                             #5 (redundant)\n",
    "            elif bintype == \"equal-size\":\n",
    "                new_df[e], binning[e] = pd.qcut(new_df[e], nobins, labels=False, retbins=True, duplicates=\"drop\")       #3\n",
    "                new_df[e] = new_df[e].astype('category')                                                                #4\n",
    "                new_df[e] = new_df[e].cat.set_categories(np.arange(nobins))                                             #5 (redundant)\n",
    "            binning[e][0] = -np.inf\n",
    "            binning[e][-1] = np.inf\n",
    "    return new_df, binning\n",
    "\n",
    "def apply_bins(df, binning):\n",
    "    new_df = df.copy()\n",
    "    for e in new_df.columns:\n",
    "        if e in binning:\n",
    "            new_df[e] = pd.cut(new_df[e], binning[e], labels=False, retbins=False)        #2\n",
    "            new_df[e] = new_df[e].astype('category')                                      #3\n",
    "            new_df[e] = new_df[e].cat.set_categories(np.arange(binning[e].size))          #4 \n",
    "    return new_df\n",
    "\n",
    "# Input to apply_bins:\n",
    "# df      - a dataframe\n",
    "# binning - a mapping (dictionary) from column name to bins (threshold values for the bin)\n",
    "#\n",
    "# Output from apply_bins:\n",
    "# df - a new dataframe, where each numeric feature value has been replaced by a categoric (corresponding to some bin)\n",
    "#\n",
    "# Hint 1: First copy the input dataframe and modify the copy (the input dataframe should be kept unchanged)\n",
    "#\n",
    "# Hint 2: Consider using pd.cut \n",
    "#\n",
    "# Hint 3: Set all columns in the new dataframe to be of type \"category\"\n",
    "#\n",
    "# Hint 4: Set the categories of the discretized features to be [0,...,nobins-1]\n"
   ]
  },
  {
   "cell_type": "code",
   "execution_count": null,
   "metadata": {},
   "outputs": [],
   "source": [
    "# Test your code  (leave this part unchanged)\n",
    "\n",
    "glass_train_df = pd.read_csv(\"glass_train.csv\")\n",
    "\n",
    "glass_test_df = pd.read_csv(\"glass_test.csv\")\n",
    "\n",
    "glass_train_disc, binning = create_bins(glass_train_df,nobins=10,bintype=\"equal-size\")\n",
    "print(\"binning:\")\n",
    "for f in binning:\n",
    "    print(\"{}:{}\".format(f,binning[f]))\n",
    "\n",
    "print()    \n",
    "glass_test_disc = apply_bins(glass_test_df,binning)\n",
    "display(\"glass_test_disc\",glass_test_disc)"
   ]
  },
  {
   "cell_type": "markdown",
   "metadata": {},
   "source": [
    "### Comment on assumptions, things that do not work properly, etc.\n",
    "This assignment took a little longer than necessary. Reason is that the student was stuck in debugging the code for the train set, the breakthrough came in realizing that there exists two types of binning, both *equal-width* and *equal-size*. The student also had to learn about assigning and manipulating Category datatypes"
   ]
  },
  {
   "cell_type": "markdown",
   "metadata": {},
   "source": [
    "## 1e. Create and apply one-hot encoding"
   ]
  },
  {
   "cell_type": "code",
   "execution_count": null,
   "metadata": {},
   "outputs": [],
   "source": [
    "# Insert the functions create_one_hot and apply_one_hot below\n",
    "\n",
    "def create_one_hot(df):\n",
    "    new_df = df.copy()\n",
    "    handle = new_df.filter([e for e in new_df.columns if new_df[e].dtype.name in [\n",
    "                           'object', 'category'] and e not in ['CLASS', 'ID']], axis=1)\n",
    "    one_hot = {}\n",
    "    for e in handle.columns:\n",
    "        features = np.sort(handle[e].unique())  # 3\n",
    "        for i in features:\n",
    "            new_df[e + \"-\" + str(i)] = [1.0 if x == i else 0.0 for x in handle[e]]\n",
    "            new_df[e + \"-\" + str(i)].astype('float')  # 4\n",
    "        one_hot[e] = features\n",
    "        new_df.drop(e, axis=1, inplace=True)  # 5\n",
    "    return new_df, one_hot\n",
    "\n",
    "# Input to create_one_hot:\n",
    "# df: a dataframe\n",
    "#\n",
    "# Output from create_one_hot:\n",
    "# df      - a new dataframe, where each categoric feature has been replaced by a set of binary features\n",
    "#           (as many new features as there are possible values)\n",
    "# one_hot - a mapping (dictionary) from column name to a set of categories (possible values for the feature)\n",
    "#\n",
    "# Hint 1: First copy the input dataframe and modify the copy (the input dataframe should be kept unchanged) OK\n",
    "#\n",
    "# Hint 2: Consider columns of type \"object\" or \"category\" only (and which are not labeled \"CLASS\" or \"ID\") OK\n",
    "#\n",
    "# Hint 3: Consider creating new column names by merging the original column name and the categorical value OK \n",
    "#\n",
    "# Hint 4: Set all new columns to be of type \"float\" OK\n",
    "#\n",
    "# Hint 5: Do not forget to remove the original categoric feature OK \n",
    "\n",
    "def apply_one_hot(df, one_hot):\n",
    "    new_df = df.copy()\n",
    "    for e in new_df.columns:\n",
    "        if e in one_hot and e not in ['CLASS', 'ID']:\n",
    "            for i in one_hot[e]:\n",
    "                new_df[e + \"-\" + str(i)] = [1.0 if x == i else 0.0 for x in new_df[e]]\n",
    "                new_df[e + \"-\" + str(i)].astype('float')  # 4\n",
    "            new_df.drop(e, axis=1, inplace=True)  # 5\n",
    "    return new_df\n",
    "\n",
    "# Input to apply_one_hot:\n",
    "# df      - a dataframe\n",
    "# one_hot - a mapping (dictionary) from column name to categories\n",
    "#\n",
    "# Output from apply_one_hot:\n",
    "# df - a new dataframe, where each categoric feature has been replaced by a set of binary features\n",
    "#\n",
    "# Hint: See the above Hints"
   ]
  },
  {
   "cell_type": "code",
   "execution_count": null,
   "metadata": {},
   "outputs": [],
   "source": [
    "# Test your code  (leave this part unchanged)\n",
    "\n",
    "train_df = pd.read_csv(\"tic-tac-toe_train.csv\")\n",
    "\n",
    "new_train, one_hot = create_one_hot(train_df)\n",
    "\n",
    "test_df = pd.read_csv(\"tic-tac-toe_test.csv\")\n",
    "\n",
    "new_test_df = apply_one_hot(test_df,one_hot)\n",
    "display(\"new_test_df\",new_test_df)"
   ]
  },
  {
   "cell_type": "markdown",
   "metadata": {},
   "source": [
    "### Comment on assumptions, things that do not work properly, etc.\n",
    "It was a bit unclear what data the dataFrame one_hot was supposted to contain, the student assumed it would play a large role in the *apply_one_hot* function. It was only used to carry the possible category values each row in the column could have"
   ]
  },
  {
   "cell_type": "markdown",
   "metadata": {},
   "source": [
    "## 1f. Divide a dataset into a training and a test set"
   ]
  },
  {
   "cell_type": "code",
   "execution_count": null,
   "metadata": {},
   "outputs": [],
   "source": [
    "# Insert the function split below\n",
    "\n",
    "def split(df, testfraction=0.5):\n",
    "    #get indexes of training and test sets\n",
    "    training_len = df.index[:int(df.index.size * (1-testfraction))]\n",
    "    test_len = df.index[int(df.index.size * (1-testfraction)):] \n",
    "    \n",
    "    #create dataframes with correct lengths\n",
    "    trainingdf = pd.DataFrame(0, training_len, df.columns, dtype=int)\n",
    "    testdf = pd.DataFrame(0, test_len, df.columns, dtype=int)\n",
    "    rand_list = np.random.permutation(df.index)\n",
    "    \n",
    "    for e in df.columns:\n",
    "        trainingdf[e] = [df[e][rand_list[x]] for x in training_len]  #skapa en series för training som innehåller från 0 till treshold\n",
    "        testdf[e] = [df[e][rand_list[x]] for x in test_len]          #skapa en series för test som innehåller från treshold till sista\n",
    "    return trainingdf, testdf\n",
    "\n",
    "# Input to split:\n",
    "# df           - a dataframe\n",
    "# testfraction - a float in the range (0,1) (default = 0.5)\n",
    "#\n",
    "# Output from split:\n",
    "# trainingdf - a dataframe consisting of a random sample of (1-testfraction) of the rows in df\n",
    "# testdf     - a dataframe consisting of the rows in df that are not included in trainingdf\n",
    "#\n",
    "# Hint: You may use np.random.permutation(df.index) to get a permuted list of indexes where a \n",
    "#       prefix corresponds to the test instances, and the suffix to the training instances \n"
   ]
  },
  {
   "cell_type": "code",
   "execution_count": null,
   "metadata": {},
   "outputs": [],
   "source": [
    "# Test your code  (leave this part unchanged)\n",
    "\n",
    "glass_df = pd.read_csv(\"glass.csv\")\n",
    "\n",
    "glass_train, glass_test = split(glass_df,testfraction=0.25)\n",
    "\n",
    "print(\"Training IDs:\\n{}\".format(glass_train[\"ID\"].values))\n",
    "\n",
    "print(\"\\nTest IDs:\\n{}\".format(glass_test[\"ID\"].values))\n",
    "\n",
    "print(\"\\nOverlap: {}\".format(set(glass_train[\"ID\"]).intersection(set(glass_test[\"ID\"]))))"
   ]
  },
  {
   "cell_type": "markdown",
   "metadata": {},
   "source": [
    "### Comment on assumptions, things that do not work properly, etc.\n",
    "This task was difficult in terms of how to prepare data, one could do it iteratively in a for loop but it is better (and better code) with using for loops inside lists. The student created two lists, one with values from 0 to the fraction of the dataFrame and another with the remaining values. The lists were used to prepare the training and test dataframes and to assign values to the columns in the sets.\n",
    "\n",
    "A random premuted list of indexes was used to assign random values to each set. Because each value in the permuted list is handled once, all values in the sets are unique"
   ]
  },
  {
   "cell_type": "markdown",
   "metadata": {},
   "source": [
    "## 1g. Calculate accuracy of a set of predictions"
   ]
  },
  {
   "cell_type": "code",
   "execution_count": null,
   "metadata": {},
   "outputs": [],
   "source": [
    "# Insert the function accuracy below\n",
    "\n",
    "def accuracy(df, correctlabels):\n",
    "    truCases, allCases = 0, 0\n",
    "    for r in df.index:\n",
    "        if correctlabels[r] == df.loc[r][:].idxmax(axis=0):\n",
    "            truCases += df.loc[r][:].max(axis=0)\n",
    "        allCases += df.loc[r][:].max(axis=0)\n",
    "    return truCases/allCases\n",
    "\n",
    "# Input to accuracy:\n",
    "# df            - a dataframe with class labels as column names and each row corresponding to\n",
    "#                 a prediction with estimated probabilities for each class\n",
    "# correctlabels - an array (or list) of the correct class label for each prediction\n",
    "#                 (the number of correct labels must equal the number of rows in df)\n",
    "#\n",
    "# Output from accuracy:\n",
    "# accuracy - the fraction of cases for which the predicted class label coincides with the correct label\n",
    "#\n",
    "# Hint: In case the label receiving the highest probability is not unique, you may\n",
    "#       resolve that by picking the first (as ordered by the column names) or \n",
    "#       by randomly selecting one of the labels with highest probaility."
   ]
  },
  {
   "cell_type": "code",
   "execution_count": null,
   "metadata": {},
   "outputs": [],
   "source": [
    "# Test your code  (leave this part unchanged)\n",
    "\n",
    "predictions = pd.DataFrame({\"A\":[0.5,0.5,0.5,0.25,0.25],\"B\":[0.5,0.25,0.25,0.5,0.25],\"C\":[0.0,0.25,0.25,0.25,0.5]})\n",
    "display(\"predictions\",predictions)"
   ]
  },
  {
   "cell_type": "code",
   "execution_count": null,
   "metadata": {},
   "outputs": [],
   "source": [
    "correctlabels = [\"B\",\"A\",\"B\",\"B\",\"C\"]\n",
    "\n",
    "print(\"Accuracy: {}\".format(accuracy(predictions,correctlabels))) # Note that depending on how ties are resolved the accuracy may be 0.6 or 0.8"
   ]
  },
  {
   "cell_type": "markdown",
   "metadata": {},
   "source": [
    "### Comment on assumptions, things that do not work properly, etc.\n",
    "I divided the amount predictions that we true with the actual times it was true"
   ]
  },
  {
   "cell_type": "markdown",
   "metadata": {},
   "source": [
    "## 2a. Divide a dataset into a number of folds"
   ]
  },
  {
   "cell_type": "code",
   "execution_count": null,
   "metadata": {},
   "outputs": [],
   "source": [
    "# Insert the function folds below\n",
    "\n",
    "def folds(df, nofolds=10):\n",
    "    #let folds be an empty list\n",
    "    folds = [[]] * nofolds\n",
    "    norows = int((df.index.size/nofolds) + 1) \n",
    "    rand_list = np.random.permutation(df.index)\n",
    "\n",
    "    # for each columns\n",
    "    for x in range(norows):\n",
    "        #display(df[e][x])\n",
    "        folds[x%nofolds].append([df['ID'][rand_list[x*5]] for x in range(norows)])\n",
    "        #        testdf[e] = [df[e][rand_list[x]] for x in test_len]          #skapa en series för test som innehåller från treshold till sista\n",
    "    folds = [pd.DataFrame(f) for f in folds]\n",
    "    return folds\n",
    "\n",
    "\n",
    "\n",
    "\n",
    "# Input to folds:\n",
    "# df      - a dataframe\n",
    "# nofolds - an integer greater than 1 (default = 10)\n",
    "#\n",
    "# Output from folds:\n",
    "# folds - a list (of length = nofolds) dataframes consisting of random non-overlapping, \n",
    "#         approximately equal-sized subsets of the rows in df\n",
    "#\n",
    "# Hint: You may use np.random.permutation(df.index) to get a permuted list of indexes from which a \n",
    "#       prefix corresponds to the test instances, and the suffix to the training instances "
   ]
  },
  {
   "cell_type": "code",
   "execution_count": null,
   "metadata": {},
   "outputs": [],
   "source": [
    "glass_df = pd.read_csv(\"glass.csv\")\n",
    "\n",
    "glass_folds = folds(glass_df,nofolds=5)\n",
    "glass_folds\n"
   ]
  },
  {
   "cell_type": "code",
   "execution_count": null,
   "metadata": {},
   "outputs": [],
   "source": [
    "  #get indexes of training and test sets\n",
    "    int(df.index.size)\n",
    "    \n",
    "    #create dataframes with correct lengths\n",
    "    trainingdf = pd.DataFrame(0, training_len, df.columns, dtype=int)\n",
    "    testdf = pd.DataFrame(0, test_len, df.columns, dtype=int)\n",
    "    rand_list = np.random.permutation(df.index)\n",
    "    \n",
    "    for e in df.columns:\n",
    "        trainingdf[e] = [df[e][rand_list[x]] for x in training_len]  #skapa en series för training som innehåller från 0 till treshold\n",
    "        testdf[e] = [df[e][rand_list[x]] for x in test_len]          #skapa en series för test som innehåller från treshold till sista\n",
    "    return trainingdf, testdf"
   ]
  },
  {
   "cell_type": "code",
   "execution_count": null,
   "metadata": {},
   "outputs": [],
   "source": [
    "# Test your code  (leave this part unchanged)\n",
    "\n",
    "glass_df = pd.read_csv(\"glass.csv\")\n",
    "\n",
    "glass_folds = folds(glass_df,nofolds=5)\n",
    "\n",
    "fold_sizes = [len(f) for f in glass_folds]\n",
    "\n",
    "print(\"Fold sizes:{}\\nTotal no. instances: {}\".format(fold_sizes,sum(fold_sizes)))"
   ]
  },
  {
   "cell_type": "markdown",
   "metadata": {},
   "source": [
    "### Comment on assumptions, things that do not work properly, etc."
   ]
  },
  {
   "cell_type": "markdown",
   "metadata": {},
   "source": [
    "## 2b. Calculate Brier score of a set of predictions"
   ]
  },
  {
   "cell_type": "code",
   "execution_count": null,
   "metadata": {},
   "outputs": [],
   "source": [
    "# Insert the function brier_score below\n",
    "#\n",
    "# Input to brier_score:\n",
    "# df            - a dataframe with class labels as column names and each row corresponding to\n",
    "#                 a prediction with estimated probabilities for each class\n",
    "# correctlabels - an array (or list) of the correct class label for each prediction\n",
    "#                 (the number of correct labels must equal the number of rows in df)\n",
    "#\n",
    "# Output from brier_score:\n",
    "# brier_score - the average square error of the predicted probabilties \n",
    "#\n",
    "# Hint: Compare each predicted vector to a vector for each correct label, which is all zeros except \n",
    "#       for at the index of the correct class. The index can be found using np.where(df.columns==l)[0] \n",
    "#       where l is the correct label.\n",
    "\n"
   ]
  },
  {
   "cell_type": "code",
   "execution_count": null,
   "metadata": {},
   "outputs": [],
   "source": [
    "# Test your code  (leave this part unchanged)\n",
    "\n",
    "predictions = pd.DataFrame({\"A\":[0.5,0.5,0.5,0.25,0.25],\"B\":[0.5,0.25,0.25,0.5,0.25],\"C\":[0.0,0.25,0.25,0.25,0.5]})\n",
    "\n",
    "correctlabels = [\"B\",\"A\",\"B\",\"B\",\"C\"]\n",
    "\n",
    "print(\"Brier score: {}\".format(brier_score(predictions,correctlabels)))"
   ]
  },
  {
   "cell_type": "markdown",
   "metadata": {},
   "source": [
    "### Comment on assumptions, things that do not work properly, etc."
   ]
  },
  {
   "cell_type": "markdown",
   "metadata": {},
   "source": [
    "## 2c. Calculate AUC of a set of predictions"
   ]
  },
  {
   "cell_type": "code",
   "execution_count": null,
   "metadata": {},
   "outputs": [],
   "source": [
    "# Insert the function auc below\n",
    "#\n",
    "# Input to auc:\n",
    "# df            - a dataframe with class labels as column names and each row corresponding to\n",
    "#                 a prediction with estimated probabilities for each class\n",
    "# correctlabels - an array (or list) of the correct class label for each prediction\n",
    "#                 (the number of correct labels must equal the number of rows in df)\n",
    "#\n",
    "# Output from auc:\n",
    "# auc - the weighted area under ROC curve\n",
    "#\n",
    "# Hint 1: Calculate the binary AUC first for each class label c, i.e., treating the\n",
    "#         predicted probability of this class for each instance as a score; the true positives\n",
    "#         are the ones belonging to class c and the false positives the rest\n",
    "#\n",
    "# Hint 2: When calculating the binary AUC, first find the scores of the true positives and then\n",
    "#         the scores of the true negatives\n",
    "#\n",
    "# Hint 3: You may use a dictionary with a mapping from each score to an array of two numbers; \n",
    "#         the number of true positives with this score and the number of true negatives with this score\n",
    "#\n",
    "# Hint 4: Created a (reversely) sorted (on the scores) list of pairs from the dictionary and\n",
    "#         iterate over this to additively calculate the AUC\n",
    "#\n",
    "# Hint 5: For each pair in the above list, there are three cases to consider; the no. of false positives\n",
    "#         is zero, the no. of true positives is zero, and both are non-zero\n",
    "#\n",
    "# Hint 6: Calculate the weighted AUC by summing the individual AUCs weighted by the relative\n",
    "#         frequency of each class (as estimated from the correct labels)\n",
    "\n"
   ]
  },
  {
   "cell_type": "code",
   "execution_count": null,
   "metadata": {},
   "outputs": [],
   "source": [
    "# Test your code  (leave this part unchanged)\n",
    "\n",
    "predictions = pd.DataFrame({\"A\":[0.9,0.9,0.6,0.55],\"B\":[0.1,0.1,0.4,0.45]})\n",
    "\n",
    "correctlabels = [\"A\",\"B\",\"B\",\"A\"]\n",
    "\n",
    "print(\"AUC: {}\".format(auc(predictions,correctlabels)))"
   ]
  },
  {
   "cell_type": "code",
   "execution_count": null,
   "metadata": {},
   "outputs": [],
   "source": [
    "predictions = pd.DataFrame({\"A\":[0.5,0.5,0.5,0.25,0.25],\"B\":[0.5,0.25,0.25,0.5,0.25],\"C\":[0.0,0.25,0.25,0.25,0.5]})\n",
    "\n",
    "correctlabels = [\"B\",\"A\",\"B\",\"B\",\"C\"]\n",
    "\n",
    "print(\"AUC: {}\".format(auc(predictions,correctlabels)))"
   ]
  },
  {
   "cell_type": "markdown",
   "metadata": {},
   "source": [
    "### Comment on assumptions, things that do not work properly, etc."
   ]
  }
 ],
 "metadata": {
  "kernelspec": {
   "display_name": "Python 3",
   "language": "python",
   "name": "python3"
  },
  "language_info": {
   "codemirror_mode": {
    "name": "ipython",
    "version": 3
   },
   "file_extension": ".py",
   "mimetype": "text/x-python",
   "name": "python",
   "nbconvert_exporter": "python",
   "pygments_lexer": "ipython3",
   "version": "3.8.8"
  }
 },
 "nbformat": 4,
 "nbformat_minor": 4
}
